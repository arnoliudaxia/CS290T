{
 "cells": [
  {
   "cell_type": "code",
   "execution_count": 3,
   "metadata": {},
   "outputs": [],
   "source": [
    "import random\n",
    "import gym\n",
    "import numpy as np\n",
    "from tqdm import tqdm\n",
    "import torch\n",
    "from torch import nn\n",
    "import torch.nn.functional as F\n",
    "import matplotlib.pyplot as plt\n",
    "import rl_utils"
   ]
  },
  {
   "cell_type": "code",
   "execution_count": 4,
   "metadata": {},
   "outputs": [],
   "source": [
    "class PolicyNet(torch.nn.Module):\n",
    "    def __init__(self, state_dim, hidden_dim, action_dim, action_bound):\n",
    "        super(PolicyNet, self).__init__()\n",
    "        self.fc1 = torch.nn.Linear(state_dim, hidden_dim)\n",
    "        self.fc2 = torch.nn.Linear(hidden_dim, action_dim)\n",
    "        self.action_bound = action_bound  # action_bound is the maximum value of the action that the environment can accept\n",
    "\n",
    "    def forward(self, x):\n",
    "        x = F.relu(self.fc1(x))\n",
    "        return torch.tanh(self.fc2(x)) * self.action_bound\n",
    "\n",
    "\n",
    "class QValueNet(torch.nn.Module):\n",
    "    def __init__(self, state_dim, hidden_dim, action_dim):\n",
    "        super(QValueNet, self).__init__()\n",
    "        self.fc1 = torch.nn.Linear(state_dim + action_dim, hidden_dim)\n",
    "        self.fc2 = torch.nn.Linear(hidden_dim, hidden_dim)\n",
    "        self.fc_out = torch.nn.Linear(hidden_dim, 1)\n",
    "\n",
    "    def forward(self, x, a):\n",
    "        cat = torch.cat([x, a], dim=1) # Splicing states and actions\n",
    "        x = F.relu(self.fc1(cat))\n",
    "        x = F.relu(self.fc2(x))\n",
    "        return self.fc_out(x)"
   ]
  },
  {
   "cell_type": "code",
   "execution_count": 5,
   "metadata": {},
   "outputs": [],
   "source": [
    "class DDPG:\n",
    "    def __init__(self, state_dim, hidden_dim, action_dim, action_bound, sigma, actor_lr, critic_lr, tau, gamma, device):\n",
    "        self.actor = PolicyNet(state_dim, hidden_dim, action_dim, action_bound).to(device)\n",
    "        self.critic = QValueNet(state_dim, hidden_dim, action_dim).to(device)\n",
    "        self.target_actor = PolicyNet(state_dim, hidden_dim, action_dim, action_bound).to(device)\n",
    "        self.target_critic = QValueNet(state_dim, hidden_dim, action_dim).to(device)\n",
    "        # Initialize the target value network and set the same parameters as the value network\n",
    "        self.target_critic.load_state_dict(self.critic.state_dict())\n",
    "        # Initialize the target policy network and set the same parameters as the policy network\n",
    "        self.target_actor.load_state_dict(self.actor.state_dict())\n",
    "        self.actor_optimizer = torch.optim.Adam(self.actor.parameters(), lr=actor_lr)\n",
    "        self.critic_optimizer = torch.optim.Adam(self.critic.parameters(), lr=critic_lr)\n",
    "        self.gamma = gamma\n",
    "        self.sigma = sigma  # The standard deviation of Gaussian noise, the mean is directly set to 0\n",
    "        self.tau = tau  # Target network soft_update parameter\n",
    "        self.action_dim = action_dim\n",
    "        self.device = device\n",
    "\n",
    "    def take_action(self, state):\n",
    "        # Adding noise to the action increases exploration (Use self.sigma = sigma)\n",
    "        ############################\n",
    "        # YOUR IMPLEMENTATION HERE #\n",
    "        ############################\n",
    "        state = torch.tensor(state, dtype=torch.float).to(self.device)\n",
    "        # Get the deterministic action from the policy network\n",
    "        action = self.actor(state).detach().cpu().numpy()\n",
    "        # Add Gaussian noise for exploration\n",
    "        action = action + self.sigma * np.random.randn(self.action_dim)\n",
    "        # Clip the action to ensure it's within the valid range\n",
    "        return action.clip(-self.actor.action_bound, self.actor.action_bound)\n",
    "\n",
    "    def soft_update(self, net, target_net):\n",
    "        for param_target, param in zip(target_net.parameters(), net.parameters()):\n",
    "            param_target.data.copy_(param_target.data * (1.0 - self.tau) + param.data * self.tau)\n",
    "\n",
    "    def update(self, transition_dict):\n",
    "        # Remember for target Network, Use soft_update\n",
    "        states = torch.tensor(transition_dict['states'], dtype=torch.float).to(self.device)\n",
    "        actions = torch.tensor(transition_dict['actions'], dtype=torch.float).view(-1, 1).to(self.device)\n",
    "        rewards = torch.tensor(transition_dict['rewards'], dtype=torch.float).view(-1, 1).to(self.device)\n",
    "        next_states = torch.tensor(transition_dict['next_states'], dtype=torch.float).to(self.device)\n",
    "        dones = torch.tensor(transition_dict['dones'], dtype=torch.float).view(-1, 1).to(self.device)\n",
    "        ############################\n",
    "        # YOUR IMPLEMENTATION HERE #\n",
    "        ############################\n",
    "        # Compute target Q value\n",
    "        next_actions = self.target_actor(next_states)\n",
    "        next_q_values = self.target_critic(next_states, next_actions)\n",
    "        target_q = rewards + self.gamma * next_q_values * (1 - dones)\n",
    "        \n",
    "        # Update critic network\n",
    "        critic_loss = torch.mean(F.mse_loss(self.critic(states, actions), target_q.detach()))\n",
    "        self.critic_optimizer.zero_grad()\n",
    "        critic_loss.backward()\n",
    "        self.critic_optimizer.step()\n",
    "        \n",
    "        # Update actor network\n",
    "        actor_loss = -torch.mean(self.critic(states, self.actor(states)))\n",
    "        self.actor_optimizer.zero_grad()\n",
    "        actor_loss.backward()\n",
    "        self.actor_optimizer.step()\n",
    "        \n",
    "        # Soft update target networks\n",
    "        self.soft_update(self.actor, self.target_actor)\n",
    "        self.soft_update(self.critic, self.target_critic)   "
   ]
  },
  {
   "cell_type": "code",
   "execution_count": 7,
   "metadata": {},
   "outputs": [
    {
     "name": "stderr",
     "output_type": "stream",
     "text": [
      "Iteration 0:  20%|██        | 4/20 [00:00<00:00, 33.35it/s]/home/arno/conda/envs/gym_094/lib/python3.6/site-packages/ipykernel_launcher.py:39: UserWarning: Creating a tensor from a list of numpy.ndarrays is extremely slow. Please consider converting the list to a single numpy.ndarray with numpy.array() before converting to a tensor. (Triggered internally at  ../torch/csrc/utils/tensor_new.cpp:201.)\n",
      "Iteration 0: 100%|██████████| 20/20 [00:04<00:00,  4.10it/s, episode=20, return=-1284.800]\n",
      "Iteration 1: 100%|██████████| 20/20 [00:06<00:00,  3.17it/s, episode=40, return=-880.967] \n",
      "Iteration 2: 100%|██████████| 20/20 [00:06<00:00,  3.16it/s, episode=60, return=-1011.567]\n",
      "Iteration 3: 100%|██████████| 20/20 [00:06<00:00,  3.18it/s, episode=80, return=-840.390] \n",
      "Iteration 4: 100%|██████████| 20/20 [00:06<00:00,  3.19it/s, episode=100, return=-688.322]\n",
      "Iteration 5: 100%|██████████| 20/20 [00:06<00:00,  3.19it/s, episode=120, return=-532.604]\n",
      "Iteration 6: 100%|██████████| 20/20 [00:06<00:00,  3.17it/s, episode=140, return=-462.324]\n",
      "Iteration 7: 100%|██████████| 20/20 [00:06<00:00,  3.17it/s, episode=160, return=-537.646]\n",
      "Iteration 8: 100%|██████████| 20/20 [00:06<00:00,  3.17it/s, episode=180, return=-297.507]\n",
      "Iteration 9: 100%|██████████| 20/20 [00:06<00:00,  3.18it/s, episode=200, return=-311.854]\n"
     ]
    }
   ],
   "source": [
    "actor_lr = 3e-4\n",
    "critic_lr = 3e-3\n",
    "num_episodes = 200\n",
    "hidden_dim = 64\n",
    "gamma = 0.98\n",
    "tau = 0.005  # Target network soft_update parameter\n",
    "buffer_size = 10000\n",
    "minimal_size = 1000\n",
    "batch_size = 64\n",
    "sigma = 0.01  # Gaussian noise standard deviation\n",
    "# device = torch.device(\"cuda\") if torch.cuda.is_available() else torch.device(\"cpu\")\n",
    "device =  torch.device(\"cpu\")\n",
    "\n",
    "env_name = 'Pendulum-v0'\n",
    "env = gym.make(env_name)\n",
    "random.seed(0)\n",
    "np.random.seed(0)\n",
    "env.seed(0)\n",
    "torch.manual_seed(0)\n",
    "replay_buffer = rl_utils.ReplayBuffer(buffer_size)\n",
    "state_dim = env.observation_space.shape[0]\n",
    "action_dim = env.action_space.shape[0]\n",
    "action_bound = env.action_space.high[0]  # Action Maximum\n",
    "agent = DDPG(state_dim, hidden_dim, action_dim, action_bound, sigma, actor_lr, critic_lr, tau, gamma, device)\n",
    "\n",
    "return_list = rl_utils.train_off_policy_agent(env, agent, num_episodes, replay_buffer, minimal_size, batch_size)\n",
    "\n",
    "\n",
    "\n",
    "torch.save(agent.actor.state_dict(), \"ddpg_pendulum_actor.pth\")\n",
    "torch.save(agent.critic.state_dict(), \"ddpg_pendulum_critic.pth\")"
   ]
  },
  {
   "cell_type": "code",
   "execution_count": 8,
   "metadata": {},
   "outputs": [
    {
     "data": {
      "image/png": "[encoded data removed]",
      "text/plain": [
       "<Figure size 432x288 with 1 Axes>"
      ]
     },
     "metadata": {
      "needs_background": "light"
     },
     "output_type": "display_data"
    }
   ],
   "source": [
    "episodes_list = list(range(len(return_list)))\n",
    "\n",
    "mv_return = rl_utils.moving_average(return_list, 9)\n",
    "plt.plot(episodes_list, mv_return)\n",
    "plt.xlabel('Episodes')\n",
    "plt.ylabel('Returns')\n",
    "plt.title('DDPG on {}'.format(env_name))\n",
    "plt.show()"
   ]
  },
  {
   "cell_type": "code",
   "execution_count": null,
   "metadata": {},
   "outputs": [],
   "source": []
  }
 ],
 "metadata": {
  "kernelspec": {
   "display_name": "gym_094",
   "language": "python",
   "name": "python3"
  },
  "language_info": {
   "codemirror_mode": {
    "name": "ipython",
    "version": 3
   },
   "file_extension": ".py",
   "mimetype": "text/x-python",
   "name": "python",
   "nbconvert_exporter": "python",
   "pygments_lexer": "ipython3",
   "version": "3.6.13"
  }
 },
 "nbformat": 4,
 "nbformat_minor": 2
}
